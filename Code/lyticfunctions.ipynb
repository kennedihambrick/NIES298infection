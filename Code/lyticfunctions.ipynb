{
 "cells": [
  {
   "cell_type": "markdown",
   "id": "5cbd226d",
   "metadata": {},
   "source": [
    "# Functions for the Lytic Population Model"
   ]
  },
  {
   "cell_type": "code",
   "execution_count": 1,
   "id": "7f5567bf",
   "metadata": {},
   "outputs": [
    {
     "name": "stdout",
     "output_type": "stream",
     "text": [
      "Intel MKL WARNING: Support of Intel(R) Streaming SIMD Extensions 4.2 (Intel(R) SSE4.2) enabled only processors has been deprecated. Intel oneAPI Math Kernel Library 2025.0 will require Intel(R) Advanced Vector Extensions (Intel(R) AVX) instructions.\n",
      "Intel MKL WARNING: Support of Intel(R) Streaming SIMD Extensions 4.2 (Intel(R) SSE4.2) enabled only processors has been deprecated. Intel oneAPI Math Kernel Library 2025.0 will require Intel(R) Advanced Vector Extensions (Intel(R) AVX) instructions.\n"
     ]
    }
   ],
   "source": [
    "import pandas as pd\n",
    "import numpy as np\n",
    "import random as rd\n",
    "from scipy.integrate import odeint\n",
    "import multiprocessing\n",
    "import matplotlib.pyplot as plt\n",
    "import pandas as pd\n",
    "import numpy as np\n",
    "import matplotlib.pyplot as plt\n",
    "import scipy \n",
    "\n",
    "mu_L = 0.08,0.28\n",
    "phi_L = np.array([1e-5,1e-6,1e-7,1e-8,1e-9,1e-10,1e-11,1e-12,1e-13,1e-14,1e-15])\n",
    "lamb_L = .325,.325\n",
    "beta_L = 120  \n",
    "Pr_L = 1\n",
    "\n",
    "tmin,tmax = 0,8\n",
    "delta = 0.001\n",
    "nsteps = (tmax-tmin)/delta\n",
    "t = np.linspace(tmin,tmax,int(nsteps))\n",
    "\n",
    "def LPM(y,t,mu_L,phi_L,beta_L,lamb_L,Pr_L):\n",
    "    S,I,V = y\n",
    "    dSdt = mu_L*S - phi_L*S*V + (lamb_L*(I)*(1-Pr_L))\n",
    "    dIdt = phi_L*S*V - lamb_L*I\n",
    "    dVdt = beta_L*lamb_L*I*Pr_L - phi_L*S*V\n",
    "    return np.array([dSdt,dIdt,dVdt])\n",
    "\n",
    "# sensitivity analysis functions - phiS\n",
    "def solverL(model,mu_L,PHI_L,beta_L,lamb_L,Pr_L):\n",
    "    Ss,Is,Vs = [],[],[]\n",
    "    ODE = np.array([odeint(LPM, model, t, args=(mu_L,PHI_L[i],beta_L,lamb_L,Pr_L)) for i in range(11)])\n",
    "    pd.Series([Ss.append(ODE[i,:,0]) for i in range(11)])\n",
    "    pd.Series([Is.append(ODE[i,:,1]) for i in range(11)])\n",
    "    pd.Series([Vs.append(ODE[i,:,2]) for i in range(11)])\n",
    "    total = [pd.Series((Ss[i]+Is[i])) for i in range(11)]\n",
    "    viruses = [pd.Series(Vs[i]) for i in range(11)]\n",
    "    ode_df = pd.DataFrame(total)\n",
    "    ode_df_transpose= ode_df.transpose()\n",
    "    ode_df_hostlog = np.log10(ode_df_transpose)\n",
    "    viruses_df = pd.DataFrame(viruses)\n",
    "    viruses_df_transpose = viruses_df.transpose()\n",
    "    ode_df_VLPlog = np.log10( viruses_df_transpose)\n",
    "    return ode_df_hostlog,ode_df_VLPlog\n"
   ]
  },
  {
   "cell_type": "code",
   "execution_count": null,
   "id": "69b6559f-c716-4a51-83fe-45121e36dd04",
   "metadata": {},
   "outputs": [],
   "source": []
  },
  {
   "cell_type": "code",
   "execution_count": null,
   "id": "cf6699e8-bb5f-42dd-ae32-1c2cc25b17b7",
   "metadata": {},
   "outputs": [],
   "source": []
  },
  {
   "cell_type": "code",
   "execution_count": null,
   "id": "d92406ab-d49f-470c-a7c9-d07f90bcee79",
   "metadata": {},
   "outputs": [],
   "source": []
  }
 ],
 "metadata": {
  "kernelspec": {
   "display_name": "Python 3 (ipykernel)",
   "language": "python",
   "name": "python3"
  },
  "language_info": {
   "codemirror_mode": {
    "name": "ipython",
    "version": 3
   },
   "file_extension": ".py",
   "mimetype": "text/x-python",
   "name": "python",
   "nbconvert_exporter": "python",
   "pygments_lexer": "ipython3",
   "version": "3.9.21"
  }
 },
 "nbformat": 4,
 "nbformat_minor": 5
}
